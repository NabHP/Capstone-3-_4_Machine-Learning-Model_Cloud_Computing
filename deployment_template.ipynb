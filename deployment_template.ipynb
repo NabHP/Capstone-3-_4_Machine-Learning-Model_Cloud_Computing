{
 "cells": [
  {
   "cell_type": "code",
   "execution_count": null,
   "metadata": {},
   "outputs": [],
   "source": [
    "## imporrt libarary \n",
    "import os\n",
    "import pandas as pd\n",
    "import numpy as np\n",
    "\n",
    "#import google cloud library\n",
    "from google.cloud import bigquery\n",
    "from google.cloud import storage\n",
    "from google.cloud import aiplatform\n",
    "from support_functions import list_dtypes\n",
    "\n",
    "## sklearn module\n",
    "from xgboost.sklearn import XGBRegressor\n",
    "import pickle"
   ]
  },
  {
   "cell_type": "code",
   "execution_count": null,
   "metadata": {},
   "outputs": [],
   "source": [
    "os.environ['GOOGLE_APPLICATION_CREDENTIALS'] = \"./sa-development.json\""
   ]
  },
  {
   "cell_type": "markdown",
   "metadata": {},
   "source": [
    "### Configuration\n"
   ]
  },
  {
   "cell_type": "code",
   "execution_count": null,
   "metadata": {},
   "outputs": [],
   "source": [
    "project_id = 'dti-ds'\n",
    "dataset_id = 'putri_dataset_028'\n",
    "table_id = 'test_data_bulk'\n",
    "region = 'us-central1'\n",
    "bucket_name = 'putri_gcs_028'\n",
    "blob_name = 'data/test_data_bulk.csv'"
   ]
  },
  {
   "cell_type": "code",
   "execution_count": null,
   "metadata": {},
   "outputs": [],
   "source": [
    "import os\n",
    "\n",
    "model_name = \"putri_Model_UsedCars_Saudi_Arabia.sav\"\n",
    "local_model_dir = \"model\"\n",
    "local_model_path = os.path.join(local_model_dir, model_name)\n",
    "\n",
    "# Ensure the local directory exists\n",
    "os.makedirs(local_model_dir, exist_ok=True)\n",
    "\n",
    "try:\n",
    "    storage_client = storage.Client(project=project_id)\n",
    "    bucket = storage_client.get_bucket(bucket_name)\n",
    "    blob_model = bucket.blob(f\"model/{model_name}\")\n",
    "    blob_model.download_to_filename('putri_Model_UsedCars_Saudi_Arabia.sav')\n",
    "\n",
    "    print(\"Retrieve model succeeded\")\n",
    "except Exception as e:\n",
    "    raise TypeError(f\"An error occurred: {e}\")"
   ]
  },
  {
   "cell_type": "code",
   "execution_count": null,
   "metadata": {},
   "outputs": [],
   "source": [
    "import os\n",
    "\n",
    "def find_file(filename, search_path):\n",
    "    result = []\n",
    "    for root, dirs, files in os.walk(search_path):\n",
    "        if filename in files:\n",
    "            result.append(os.path.join(root, filename))\n",
    "    return result\n",
    "\n",
    "model_name = \"putri_Model_UsedCars_Saudi_Arabia.sav\"\n",
    "search_path = \".\"  # Current directory or specify the root directory to start the search\n",
    "\n",
    "found_files = find_file(model_name, search_path)\n",
    "\n",
    "if found_files:\n",
    "    for file_path in found_files:\n",
    "        print(\"Found:\", file_path)\n",
    "else:\n",
    "    print(f\"{model_name} not found in {search_path}\")"
   ]
  },
  {
   "cell_type": "markdown",
   "metadata": {},
   "source": [
    "### Model Predictions\n"
   ]
  },
  {
   "cell_type": "markdown",
   "metadata": {},
   "source": [
    "import pickle\n",
    "import sklearn\n",
    "import xgboost\n",
    "\n",
    "from sklearn.compose import ColumnTransformer\n",
    "\n",
    "\n",
    "\n",
    "model_name = \"putri_Model_UsedCars_Saudi_Arabia.sav\"\n",
    "model_path = \"./putri_Model_UsedCars_Saudi_Arabia.sav\"\n",
    "\n",
    "loaded_model = pickle.load(open(model_path, 'rb'))\n",
    "\n",
    "# Sample data for prediction\n",
    "predict_car = pd.DataFrame({\n",
    "    'Type':['Optima'],\n",
    "    'Region':['Abha'], \n",
    "    'Make':['Kia'], \n",
    "    'Gear_Type':['Automatic'], \n",
    "    'Origin':['Saudi'], \n",
    "    'Options':['Semi Full'], \n",
    "    'Year':[2015],\n",
    "    'Engine_Size':[2.0], \n",
    "    'Mileage':[10000]\n",
    "})\n",
    "\n",
    "loaded_model.predict(predict_car)\n",
    "\n",
    "\n",
    "\n",
    "\n",
    "predictions = loaded_model.predict(predict_car)\n",
    "\n",
    "predictions"
   ]
  },
  {
   "cell_type": "code",
   "execution_count": null,
   "metadata": {},
   "outputs": [],
   "source": [
    "# load data from BQ\n",
    "client = bigquery.Client(project=project_id)\n",
    "\n",
    "# query \n",
    "query_job = client.query(f\"\"\"select * from {dataset_id}.{table_id}\"\"\")\n",
    "test_df = query_job.result().to_dataframe()\n",
    "\n",
    "test_df\n",
    "\n",
    "bulk_predict_df = test_df"
   ]
  },
  {
   "cell_type": "code",
   "execution_count": null,
   "metadata": {},
   "outputs": [],
   "source": [
    "y_pred = loaded_model.predict(bulk_predict_df)\n",
    "y_pred_df = pd.DataFrame(y_pred, columns=['Price Prediction'])\n",
    "\n",
    "result_df = pd.concat([test_df.reset_index(drop=True), y_pred_df.reset_index(drop=True)], axis=1)\n",
    "result_df"
   ]
  }
 ],
 "metadata": {
  "kernelspec": {
   "display_name": "Python 3",
   "language": "python",
   "name": "python3"
  },
  "language_info": {
   "name": "python",
   "version": "3.12.3"
  }
 },
 "nbformat": 4,
 "nbformat_minor": 2
}
